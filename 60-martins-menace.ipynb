{
 "cells": [
  {
   "cell_type": "markdown",
   "id": "ff1b8401-72dc-4ded-9f39-8ef733765a51",
   "metadata": {},
   "source": [
    "# Martin's menace using search algorithms\n",
    "\n",
    "\n"
   ]
  },
  {
   "cell_type": "code",
   "execution_count": null,
   "id": "d5ff2206-c9d2-44bb-8f31-1703dd4f693a",
   "metadata": {},
   "outputs": [],
   "source": [
    "## Preamble\n",
    "\n",
    "# %%\n",
    "# Library Imports\n",
    "import os\n",
    "import sys\n",
    "import pandas as pd\n",
    "import datetime\n",
    "import numpy as np\n",
    "import re\n",
    "import math\n",
    "\n",
    "# Specific libraries\n",
    "import seaborn as sns\n",
    "from pathlib import Path\n",
    "\n",
    "from matplotlib import pyplot\n",
    "from shapely.ops import transform, unary_union\n",
    "from shapely.geometry import Polygon, MultiPoint, MultiPolygon\n",
    "from shapely import affinity\n",
    "\n",
    "from fastprogress import master_bar, progress_bar\n",
    "from fastai.vision.core import PILImage\n",
    "from PIL import Image\n",
    "from functools import reduce\n",
    "from operator import mul\n",
    "import io\n",
    "\n",
    "from IPython.display import display, clear_output\n",
    "\n",
    "import time\n",
    "\n",
    "\n",
    "from descartes.patch import PolygonPatch\n",
    "\n",
    "import itertools\n",
    "import numpy as np\n",
    "import tqdm\n"
   ]
  },
  {
   "cell_type": "code",
   "execution_count": null,
   "id": "5f0e596c",
   "metadata": {},
   "outputs": [],
   "source": [
    "%reload_ext autoreload\n",
    "%autoreload 2"
   ]
  },
  {
   "cell_type": "code",
   "execution_count": 1,
   "id": "33928475",
   "metadata": {},
   "outputs": [
    {
     "ename": "TypeError",
     "evalue": "'type' object is not subscriptable",
     "output_type": "error",
     "traceback": [
      "\u001b[1;31m---------------------------------------------------------------------------\u001b[0m",
      "\u001b[1;31mTypeError\u001b[0m                                 Traceback (most recent call last)",
      "\u001b[1;32m<ipython-input-1-6d6181c96ec9>\u001b[0m in \u001b[0;36m<module>\u001b[1;34m\u001b[0m\n\u001b[1;32m----> 1\u001b[1;33m \u001b[1;32mfrom\u001b[0m \u001b[0mutils\u001b[0m \u001b[1;32mimport\u001b[0m \u001b[0msearch\u001b[0m\u001b[1;33m,\u001b[0m \u001b[0mPiece\u001b[0m\u001b[1;33m,\u001b[0m \u001b[0mBoard\u001b[0m\u001b[1;33m,\u001b[0m \u001b[0mplot_level\u001b[0m\u001b[1;33m\u001b[0m\u001b[1;33m\u001b[0m\u001b[0m\n\u001b[0m",
      "\u001b[1;32mc:\\Users\\milen\\Desktop\\git_others\\martins-menace\\utils.py\u001b[0m in \u001b[0;36m<module>\u001b[1;34m\u001b[0m\n\u001b[0;32m      7\u001b[0m \u001b[1;33m\u001b[0m\u001b[0m\n\u001b[0;32m      8\u001b[0m \u001b[1;33m@\u001b[0m\u001b[0mdataclass\u001b[0m\u001b[1;33m\u001b[0m\u001b[1;33m\u001b[0m\u001b[0m\n\u001b[1;32m----> 9\u001b[1;33m \u001b[1;32mclass\u001b[0m \u001b[0mPiece\u001b[0m\u001b[1;33m:\u001b[0m\u001b[1;33m\u001b[0m\u001b[1;33m\u001b[0m\u001b[0m\n\u001b[0m\u001b[0;32m     10\u001b[0m     \u001b[0mname\u001b[0m\u001b[1;33m:\u001b[0m \u001b[0mstr\u001b[0m\u001b[1;33m\u001b[0m\u001b[1;33m\u001b[0m\u001b[0m\n\u001b[0;32m     11\u001b[0m     \u001b[0mpattern\u001b[0m\u001b[1;33m:\u001b[0m \u001b[0mnp\u001b[0m\u001b[1;33m.\u001b[0m\u001b[0mndarray\u001b[0m \u001b[1;33m=\u001b[0m \u001b[0mfield\u001b[0m\u001b[1;33m(\u001b[0m\u001b[0mcompare\u001b[0m\u001b[1;33m=\u001b[0m\u001b[1;32mTrue\u001b[0m\u001b[1;33m)\u001b[0m\u001b[1;33m\u001b[0m\u001b[1;33m\u001b[0m\u001b[0m\n",
      "\u001b[1;32mc:\\Users\\milen\\Desktop\\git_others\\martins-menace\\utils.py\u001b[0m in \u001b[0;36mPiece\u001b[1;34m()\u001b[0m\n\u001b[0;32m     16\u001b[0m \u001b[1;33m\u001b[0m\u001b[0m\n\u001b[0;32m     17\u001b[0m     def __init__(\n\u001b[1;32m---> 18\u001b[1;33m         \u001b[0mself\u001b[0m\u001b[1;33m,\u001b[0m \u001b[0mname\u001b[0m\u001b[1;33m:\u001b[0m \u001b[0mstr\u001b[0m\u001b[1;33m,\u001b[0m \u001b[0mid\u001b[0m\u001b[1;33m:\u001b[0m \u001b[0mint\u001b[0m\u001b[1;33m,\u001b[0m \u001b[0mascii_pattern\u001b[0m\u001b[1;33m:\u001b[0m \u001b[0mlist\u001b[0m\u001b[1;33m[\u001b[0m\u001b[0mstr\u001b[0m\u001b[1;33m]\u001b[0m \u001b[1;33m=\u001b[0m \u001b[1;32mNone\u001b[0m\u001b[1;33m,\u001b[0m \u001b[0mpattern\u001b[0m\u001b[1;33m=\u001b[0m\u001b[1;32mNone\u001b[0m\u001b[1;33m\u001b[0m\u001b[1;33m\u001b[0m\u001b[0m\n\u001b[0m\u001b[0;32m     19\u001b[0m     ):\n\u001b[0;32m     20\u001b[0m         \u001b[0mself\u001b[0m\u001b[1;33m.\u001b[0m\u001b[0mname\u001b[0m \u001b[1;33m=\u001b[0m \u001b[0mname\u001b[0m\u001b[1;33m\u001b[0m\u001b[1;33m\u001b[0m\u001b[0m\n",
      "\u001b[1;31mTypeError\u001b[0m: 'type' object is not subscriptable"
     ]
    }
   ],
   "source": [
    "from utils import search, Piece, Board, plot_level"
   ]
  },
  {
   "cell_type": "code",
   "execution_count": null,
   "id": "52ff6a63-8edc-49b7-800b-84f6087ba731",
   "metadata": {},
   "outputs": [],
   "source": [
    "# %%\n",
    "# Environment Variables\n",
    "# Load environment variables, e.g., API keys, database URIs\n",
    "# Assuming you have a .env file in your notebook directory or its parent\n",
    "try:\n",
    "    from dotenv import load_dotenv\n",
    "\n",
    "    load_dotenv()\n",
    "except ImportError:\n",
    "    print(\"dotenv not installed. Install it or manually set environment variables.\")\n",
    "\n",
    "DATA_PATH = Path(os.getenv(\"DATA_PATH\", \"data\"))\n",
    "# API_KEY = os.getenv(\"API_KEY\")\n",
    "# DATABASE_URI = os.getenv(\"DATABASE_URI\")"
   ]
  },
  {
   "cell_type": "code",
   "execution_count": null,
   "id": "87b34baf",
   "metadata": {},
   "outputs": [],
   "source": [
    "# %%\n",
    "# Configuration\n",
    "pd.set_option(\"display.max_columns\", None)\n",
    "pd.set_option(\"display.precision\", 2)\n",
    "\n",
    "# Optional: Logging Configuration\n",
    "import logging\n",
    "\n",
    "logging.basicConfig(\n",
    "    level=logging.DEBUG, format=\"%(asctime)s - %(levelname)s - %(name)s - %(message)s\"\n",
    ")\n",
    "# Disable logging for Pillow (or any other specific module)\n",
    "logging.getLogger(\"PIL\").setLevel(logging.CRITICAL)\n",
    "logging.getLogger(\"matplotlib\").setLevel(logging.CRITICAL)\n",
    "\n",
    "logger = logging.getLogger(__name__)\n",
    "\n",
    "# %%\n",
    "logger.info(f\"Start {datetime.datetime.now()=}\")"
   ]
  },
  {
   "cell_type": "code",
   "execution_count": null,
   "id": "38ac6fcb",
   "metadata": {},
   "outputs": [],
   "source": [
    "piece_T = Piece(\"T\", id=1, ascii_pattern=[\"***\", \" * \", \" * \"])\n",
    "piece_s = Piece(\"s\", id=2, ascii_pattern=[\" **\", \" * \", \"** \"])\n",
    "piece_r = Piece(\"r\", id=3, ascii_pattern=[\" **\", \"** \", \" * \"])\n",
    "piece_f = Piece(\"f\", id=4, ascii_pattern=[\"* \", \"**\", \"* \", \"* \"])\n",
    "\n",
    "assert piece_T != piece_f\n",
    "assert piece_T.rot(180) == piece_T.flip()\n",
    "assert piece_f.rot(180) != piece_T.flip()\n",
    "\n",
    "assert len(piece_T.all_versions()) == 4\n",
    "\n",
    "pieces_dict = {piece.id: piece for piece in [piece_T, piece_s, piece_r, piece_f]}"
   ]
  },
  {
   "cell_type": "code",
   "execution_count": null,
   "id": "b9ba6344",
   "metadata": {},
   "outputs": [],
   "source": [
    "board = Board().add(piece_f, *(False, 90, -2, -1))\n",
    "board"
   ]
  },
  {
   "cell_type": "code",
   "execution_count": null,
   "id": "ae91a2a9",
   "metadata": {},
   "outputs": [],
   "source": [
    "current_boards = [Board()]\n",
    "level_1, best_cost, best_area = search(current_boards, piece=piece_f)\n",
    "print(f\"{len(level_1)=} {best_cost=} {best_area=}\")"
   ]
  },
  {
   "cell_type": "code",
   "execution_count": null,
   "id": "84f32cfc",
   "metadata": {},
   "outputs": [],
   "source": [
    "current_boards = [Board()]\n",
    "level_1, best_cost, best_area = search(current_boards, piece=piece_f)\n",
    "plot_level(level_1, f\"{len(level_1)=} {best_cost=} {best_area=}\")"
   ]
  },
  {
   "cell_type": "code",
   "execution_count": null,
   "id": "30502eeb",
   "metadata": {},
   "outputs": [],
   "source": [
    "level_2, best_cost, best_area = search(level_1, piece=piece_r)\n",
    "plot_level(level_2, f\"{len(level_2)=} {best_cost=} {best_area=}\")"
   ]
  },
  {
   "cell_type": "code",
   "execution_count": null,
   "id": "3a784dc8",
   "metadata": {},
   "outputs": [],
   "source": [
    "level_3, best_cost, best_area = search(level_2, piece=piece_s)\n",
    "plot_level(level_3, f\"{len(level_3)=} {best_cost=} {best_area=}\")"
   ]
  }
 ],
 "metadata": {
  "kernelspec": {
   "display_name": "Python 3 (ipykernel)",
   "language": "python",
   "name": "python3"
  },
  "language_info": {
   "codemirror_mode": {
    "name": "ipython",
    "version": 3
   },
   "file_extension": ".py",
   "mimetype": "text/x-python",
   "name": "python",
   "nbconvert_exporter": "python",
   "pygments_lexer": "ipython3",
   "version": "3.8.8"
  }
 },
 "nbformat": 4,
 "nbformat_minor": 5
}
